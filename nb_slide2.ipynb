{
 "cells": [
  {
   "cell_type": "code",
   "execution_count": 6,
   "metadata": {},
   "outputs": [],
   "source": [
    "import jupyter_capture_output\n",
    "from manim import *\n",
    "config.media_embed = False\n",
    "config.media_width = \"50vw\""
   ]
  },
  {
   "cell_type": "code",
   "execution_count": 7,
   "metadata": {},
   "outputs": [
    {
     "name": "stderr",
     "output_type": "stream",
     "text": [
      "                                                                             \r"
     ]
    },
    {
     "data": {
      "text/html": [
       "<video src=\"media/jupyter/Example1@2022-06-24@13-45-08.mp4\" controls autoplay loop style=\"max-width: 50vw;\"  >\n",
       "      Your browser does not support the <code>video</code> element.\n",
       "    </video>"
      ],
      "text/plain": [
       "<IPython.core.display.Video object>"
      ]
     },
     "metadata": {},
     "output_type": "display_data"
    },
    {
     "name": "stdout",
     "output_type": "stream",
     "text": [
      "{'text/html': '<video src=\"media/jupyter/Example1@2022-06-24@13-45-08.mp4\" '\n",
      "              'controls autoplay loop style=\"max-width: 50vw;\"  >\\n'\n",
      "              '      Your browser does not support the <code>video</code> '\n",
      "              'element.\\n'\n",
      "              '    </video>',\n",
      " 'text/plain': '<IPython.core.display.Video object>'}\n",
      "#####\n",
      "media/jupyter/Example1@2022-06-24@13-45-08.mp4\n",
      "Slide2-0.mp4\n"
     ]
    }
   ],
   "source": [
    "%%capture_video --path \"Slide2-0.mp4\" \n",
    "%%manim -v WARNING --disable_caching -qh Example1\n",
    "\n",
    "class Example1(Scene):\n",
    "    def construct(self):\n",
    "        t = Text(\"Slide 2\").scale(2).shift(UP*0.5)\n",
    "        t.align_to([-1.83,0,0], LEFT)\n",
    "        s = Star(color = YELLOW, stroke_width=10).shift(DOWN*1.5)\n",
    "        self.add(s,t)\n",
    "        self.play(Rotate(s, angle=TAU/5, about_point = s.get_center_of_mass()), rate_func= linear, run_time= 3)"
   ]
  },
  {
   "cell_type": "code",
   "execution_count": 3,
   "metadata": {},
   "outputs": [
    {
     "name": "stderr",
     "output_type": "stream",
     "text": [
      "                                                                                      \r"
     ]
    },
    {
     "data": {
      "text/html": [
       "<video src=\"media/jupyter/Example1@2022-06-24@13-35-20.mp4\" controls autoplay loop style=\"max-width: 50vw;\"  >\n",
       "      Your browser does not support the <code>video</code> element.\n",
       "    </video>"
      ],
      "text/plain": [
       "<IPython.core.display.Video object>"
      ]
     },
     "metadata": {},
     "output_type": "display_data"
    },
    {
     "name": "stdout",
     "output_type": "stream",
     "text": [
      "{'text/html': '<video src=\"media/jupyter/Example1@2022-06-24@13-35-20.mp4\" '\n",
      "              'controls autoplay loop style=\"max-width: 50vw;\"  >\\n'\n",
      "              '      Your browser does not support the <code>video</code> '\n",
      "              'element.\\n'\n",
      "              '    </video>',\n",
      " 'text/plain': '<IPython.core.display.Video object>'}\n",
      "#####\n",
      "media/jupyter/Example1@2022-06-24@13-35-20.mp4\n",
      "Slide2-1.mp4\n"
     ]
    }
   ],
   "source": [
    "%%capture_video --path \"Slide2-1.mp4\" \n",
    "%%manim -v WARNING --disable_caching -qh Example1\n",
    "\n",
    "class Example1(Scene):\n",
    "    def construct(self):\n",
    "        t = Text(\"Slide 2-1\").scale(2).shift(UP*0.5)\n",
    "        t.align_to([-1.83,0,0], LEFT)\n",
    "        s = RegularPolygon(5,color = YELLOW, stroke_width=10).shift(DOWN*1.5)\n",
    "        self.add(s,t)\n",
    "        self.play(Rotate(s, angle=TAU/5, about_point = s.get_center_of_mass()), rate_func= linear, run_time= 3)"
   ]
  },
  {
   "cell_type": "code",
   "execution_count": 4,
   "metadata": {},
   "outputs": [
    {
     "name": "stderr",
     "output_type": "stream",
     "text": [
      "                                                                                      \r"
     ]
    },
    {
     "data": {
      "text/html": [
       "<video src=\"media/jupyter/Example1@2022-06-24@13-35-22.mp4\" controls autoplay loop style=\"max-width: 50vw;\"  >\n",
       "      Your browser does not support the <code>video</code> element.\n",
       "    </video>"
      ],
      "text/plain": [
       "<IPython.core.display.Video object>"
      ]
     },
     "metadata": {},
     "output_type": "display_data"
    },
    {
     "name": "stdout",
     "output_type": "stream",
     "text": [
      "{'text/html': '<video src=\"media/jupyter/Example1@2022-06-24@13-35-22.mp4\" '\n",
      "              'controls autoplay loop style=\"max-width: 50vw;\"  >\\n'\n",
      "              '      Your browser does not support the <code>video</code> '\n",
      "              'element.\\n'\n",
      "              '    </video>',\n",
      " 'text/plain': '<IPython.core.display.Video object>'}\n",
      "#####\n",
      "media/jupyter/Example1@2022-06-24@13-35-22.mp4\n",
      "Slide2-2.mp4\n"
     ]
    }
   ],
   "source": [
    "%%capture_video --path \"Slide2-2.mp4\" \n",
    "%%manim -v WARNING --disable_caching -qh Example1\n",
    "\n",
    "class Example1(Scene):\n",
    "    def construct(self):\n",
    "        t = Text(\"Slide 2-2\").scale(2).shift(UP*0.5)\n",
    "        t.align_to([-1.83,0,0], LEFT)\n",
    "        s = RegularPolygon(10,color = YELLOW, stroke_width=10).shift(DOWN*1.5)\n",
    "        self.add(s,t)\n",
    "        self.play(Rotate(s, angle=TAU/5, about_point = s.get_center_of_mass()), rate_func= linear, run_time= 3)"
   ]
  },
  {
   "cell_type": "code",
   "execution_count": 5,
   "metadata": {},
   "outputs": [
    {
     "name": "stderr",
     "output_type": "stream",
     "text": [
      "                                                                                      \r"
     ]
    },
    {
     "data": {
      "text/html": [
       "<video src=\"media/jupyter/Example1@2022-06-24@13-35-25.mp4\" controls autoplay loop style=\"max-width: 50vw;\"  >\n",
       "      Your browser does not support the <code>video</code> element.\n",
       "    </video>"
      ],
      "text/plain": [
       "<IPython.core.display.Video object>"
      ]
     },
     "metadata": {},
     "output_type": "display_data"
    },
    {
     "name": "stdout",
     "output_type": "stream",
     "text": [
      "{'text/html': '<video src=\"media/jupyter/Example1@2022-06-24@13-35-25.mp4\" '\n",
      "              'controls autoplay loop style=\"max-width: 50vw;\"  >\\n'\n",
      "              '      Your browser does not support the <code>video</code> '\n",
      "              'element.\\n'\n",
      "              '    </video>',\n",
      " 'text/plain': '<IPython.core.display.Video object>'}\n",
      "#####\n",
      "media/jupyter/Example1@2022-06-24@13-35-25.mp4\n",
      "Slide2-3.mp4\n"
     ]
    }
   ],
   "source": [
    "%%capture_video --path \"Slide2-3.mp4\" \n",
    "%%manim -v WARNING --disable_caching -qh Example1\n",
    "\n",
    "class Example1(Scene):\n",
    "    def construct(self):\n",
    "        t = Text(\"Slide 2-3\").scale(2).shift(UP*0.5)\n",
    "        t.align_to([-1.83,0,0], LEFT)\n",
    "        s = Circle(stroke_color=YELLOW, stroke_width=10).shift(DOWN*1.5)\n",
    "        s = DashedVMobject(s, num_dashes=10) \n",
    "        self.add(s,t)\n",
    "        self.play(Rotate(s, angle=TAU/5, about_point = s.get_center_of_mass()), rate_func= linear, run_time= 3)"
   ]
  },
  {
   "cell_type": "code",
   "execution_count": null,
   "metadata": {},
   "outputs": [],
   "source": []
  }
 ],
 "metadata": {
  "kernelspec": {
   "display_name": "Python 3.8.13 ('manimenv4': venv)",
   "language": "python",
   "name": "python3"
  },
  "language_info": {
   "codemirror_mode": {
    "name": "ipython",
    "version": 3
   },
   "file_extension": ".py",
   "mimetype": "text/x-python",
   "name": "python",
   "nbconvert_exporter": "python",
   "pygments_lexer": "ipython3",
   "version": "3.8.13"
  },
  "orig_nbformat": 4,
  "vscode": {
   "interpreter": {
    "hash": "3f9949087eed9dbfc85e200cd61b94146589d4f8ccc12bf78df7cdf361d66cce"
   }
  }
 },
 "nbformat": 4,
 "nbformat_minor": 2
}
